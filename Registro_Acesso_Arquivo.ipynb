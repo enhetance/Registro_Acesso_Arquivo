{
  "nbformat": 4,
  "nbformat_minor": 0,
  "metadata": {
    "colab": {
      "provenance": [],
      "mount_file_id": "1De4JT6YaOoEvNLnoYsAvQtaxYdluNS4j",
      "authorship_tag": "ABX9TyOG20z0H+3mUhJx2Awt76gq",
      "include_colab_link": true
    },
    "kernelspec": {
      "name": "python3",
      "display_name": "Python 3"
    },
    "language_info": {
      "name": "python"
    }
  },
  "cells": [
    {
      "cell_type": "markdown",
      "metadata": {
        "id": "view-in-github",
        "colab_type": "text"
      },
      "source": [
        "<a href=\"https://colab.research.google.com/github/enhetance/Registro_Acesso_Arquivo/blob/main/Registro_Acesso_Arquivo.ipynb\" target=\"_parent\"><img src=\"https://colab.research.google.com/assets/colab-badge.svg\" alt=\"Open In Colab\"/></a>"
      ]
    },
    {
      "cell_type": "code",
      "execution_count": 1,
      "metadata": {
        "id": "0w2EBr_0ftp9"
      },
      "outputs": [],
      "source": [
        "import time # Implementação do Registro da Data e Hora do Acesso\n",
        "\n",
        "def openLog(nomearq, modo = 'r'):\n",
        "  '''abre arquivo nomearq em certo modo e terorna referencia ao\n",
        "  arquivo aberto; registra o acesso ao arquivo em log.txt'''\n",
        "\n",
        "  arqEntrada = open(nomearq, modo)\n",
        "\n",
        "  #obtem hora atual\n",
        "  now = time.localtime()\n",
        "  nowFormat = time.strftime('%A %b/%d/%y %I:%M %p', now)\n",
        "\n",
        "  #abre arquivo teste.txt no modo de acréscimo e acrescenta log\n",
        "  arqSaida = open('teste.txt', 'a')\n",
        "  log = '{}: Arquivo {} aberto.\\n' #formata string\n",
        "  arqSaida.write(log.format(nowFormat, nomearq))\n",
        "  arqSaida.close()\n",
        "\n",
        "  print('Registro realizado')\n",
        "\n",
        "  return arqEntrada\n"
      ]
    },
    {
      "cell_type": "code",
      "source": [
        "\n",
        "#teste da função openLog\n",
        "openLog('/content/drive/MyDrive/teste.txt', 'r')"
      ],
      "metadata": {
        "colab": {
          "base_uri": "https://localhost:8080/"
        },
        "id": "cpYkzbsSfvfF",
        "outputId": "8581b0c6-046d-4c13-f82a-2a8f8de66484"
      },
      "execution_count": 5,
      "outputs": [
        {
          "output_type": "stream",
          "name": "stdout",
          "text": [
            "Registro realizado\n"
          ]
        },
        {
          "output_type": "execute_result",
          "data": {
            "text/plain": [
              "<_io.TextIOWrapper name='/content/drive/MyDrive/teste.txt' mode='r' encoding='utf-8'>"
            ]
          },
          "metadata": {},
          "execution_count": 5
        }
      ]
    }
  ]
}